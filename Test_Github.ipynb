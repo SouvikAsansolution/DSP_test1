{
  "nbformat": 4,
  "nbformat_minor": 0,
  "metadata": {
    "colab": {
      "provenance": [],
      "authorship_tag": "ABX9TyO21D6sWmf8yNNG3pwyapTN",
      "include_colab_link": true
    },
    "kernelspec": {
      "name": "python3",
      "display_name": "Python 3"
    },
    "language_info": {
      "name": "python"
    }
  },
  "cells": [
    {
      "cell_type": "markdown",
      "metadata": {
        "id": "view-in-github",
        "colab_type": "text"
      },
      "source": [
        "<a href=\"https://colab.research.google.com/github/SouvikAsansolution/DSP_test1/blob/main/Test_Github.ipynb\" target=\"_parent\"><img src=\"https://colab.research.google.com/assets/colab-badge.svg\" alt=\"Open In Colab\"/></a>"
      ]
    },
    {
      "cell_type": "code",
      "execution_count": 1,
      "metadata": {
        "colab": {
          "base_uri": "https://localhost:8080/"
        },
        "id": "6-5q7NgK-3P_",
        "outputId": "e05ae9f6-473d-4c83-c5e6-7eaef21971dc"
      },
      "outputs": [
        {
          "output_type": "stream",
          "name": "stdout",
          "text": [
            "Git hub\n"
          ]
        }
      ],
      "source": [
        "print(\"Git hub\")"
      ]
    },
    {
      "cell_type": "markdown",
      "source": [
        "# Project is for DSP Sinter Plant( checking the conveyor belt is empty or not )"
      ],
      "metadata": {
        "id": "FMdycGEi_ibB"
      }
    },
    {
      "cell_type": "markdown",
      "source": [
        "Adding the Google drive on to the Colab"
      ],
      "metadata": {
        "id": "iH9PUo_o_qAV"
      }
    },
    {
      "cell_type": "code",
      "source": [
        "from google.colab import drive\n",
        "drive.mount('/content/drive')"
      ],
      "metadata": {
        "colab": {
          "base_uri": "https://localhost:8080/"
        },
        "id": "6N7x54DV_bKL",
        "outputId": "9373454e-9d6a-456e-8f4f-352208eb2511"
      },
      "execution_count": 3,
      "outputs": [
        {
          "output_type": "stream",
          "name": "stdout",
          "text": [
            "Mounted at /content/drive\n"
          ]
        }
      ]
    }
  ]
}